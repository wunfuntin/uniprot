{
 "cells": [
  {
   "cell_type": "code",
   "execution_count": 13,
   "outputs": [
    {
     "name": "stdout",
     "output_type": "stream",
     "text": [
      "[['A', 'C', 'F', 'F', 'D', 'E', 'T', 'R', 'S', 'S'], ['A', 'C', 'E', 'F', 'E', 'E', 'F', 'S', 'H', 'S']]\n"
     ]
    },
    {
     "ename": "TypeError",
     "evalue": "list indices must be integers or slices, not list",
     "output_type": "error",
     "traceback": [
      "\u001B[0;31m---------------------------------------------------------------------------\u001B[0m",
      "\u001B[0;31mTypeError\u001B[0m                                 Traceback (most recent call last)",
      "Cell \u001B[0;32mIn[13], line 33\u001B[0m\n\u001B[1;32m     27\u001B[0m \u001B[38;5;66;03m# master_list = [[i+j for i in range(4)] for j in range(4)]\u001B[39;00m\n\u001B[1;32m     28\u001B[0m \u001B[38;5;66;03m# print(master_list)\u001B[39;00m\n\u001B[1;32m     29\u001B[0m \u001B[38;5;66;03m# for aa in wt_seq:\u001B[39;00m\n\u001B[1;32m     30\u001B[0m \u001B[38;5;66;03m#     print(aa)\u001B[39;00m\n\u001B[1;32m     31\u001B[0m \u001B[38;5;66;03m#     print(aa.index(aa))\u001B[39;00m\n\u001B[1;32m     32\u001B[0m \u001B[38;5;28;01mfor\u001B[39;00m list_number \u001B[38;5;129;01min\u001B[39;00m master_list:\n\u001B[0;32m---> 33\u001B[0m     \u001B[38;5;28;01mfor\u001B[39;00m index, item \u001B[38;5;129;01min\u001B[39;00m \u001B[38;5;28menumerate\u001B[39m(\u001B[43mmaster_list\u001B[49m\u001B[43m[\u001B[49m\u001B[43mlist_number\u001B[49m\u001B[43m]\u001B[49m, start\u001B[38;5;241m=\u001B[39m\u001B[38;5;241m0\u001B[39m):   \u001B[38;5;66;03m# Python indexes start at zero\u001B[39;00m\n\u001B[1;32m     34\u001B[0m         aa_index \u001B[38;5;241m=\u001B[39m (index, item)\n\u001B[1;32m     35\u001B[0m         \u001B[38;5;28;01mif\u001B[39;00m item \u001B[38;5;129;01min\u001B[39;00m aa_dict[\u001B[38;5;124m'\u001B[39m\u001B[38;5;124mpositive\u001B[39m\u001B[38;5;124m'\u001B[39m]:\n",
      "\u001B[0;31mTypeError\u001B[0m: list indices must be integers or slices, not list"
     ]
    }
   ],
   "source": [
    "all_aa = 'ACDEFGHIKLMNPQRSTVWY'\n",
    "\n",
    "wt_seq = ['A', 'C', 'F', 'F', 'D', 'E', 'T', 'S', 'S', 'S']\n",
    "mut_seq = ['A', 'C', 'E', 'F', 'E', 'E', 'F', 'S', 'H', 'S']\n",
    "\n",
    "aa_dict = {\n",
    "    \"positive\": ['R', 'H', 'K'],\n",
    "    \"negative\": ['D', 'E'],\n",
    "    \"polar\": ['S', 'T', 'N', 'Q'],\n",
    "    \"hydrophobic\": ['A', 'V', 'I', 'L', 'M', 'F', 'Y', 'W'],\n",
    "    \"special\": ['C', 'G', 'P'],\n",
    "}\n",
    "\n",
    "# for aa in wt_seq:\n",
    "#     print(aa)\n",
    "#     print(aa.index(aa))\n",
    "for index, item in enumerate(wt_seq, start=0):   # Python indexes start at zero\n",
    "    aa_index = (index, item)\n",
    "    \n",
    "    print(aa_index)\n",
    "\n",
    "\n",
    "\n",
    "# for x in aa_dict.values():\n",
    "#     print(x)\n",
    "#     for a in x:\n",
    "#         print(a)\n",
    "\n",
    "# print(aa_dict['positive'])"
   ],
   "metadata": {
    "collapsed": false,
    "ExecuteTime": {
     "end_time": "2023-08-09T15:50:59.431382Z",
     "start_time": "2023-08-09T15:50:59.003352Z"
    }
   },
   "id": "2bafd2c7409ed58a"
  },
  {
   "cell_type": "code",
   "execution_count": 14,
   "outputs": [
    {
     "name": "stdout",
     "output_type": "stream",
     "text": [
      "[nan, nan, nan, nan, 0.02904940554533142, 0.2780719051126377]\n"
     ]
    },
    {
     "name": "stderr",
     "output_type": "stream",
     "text": [
      "/var/folders/lw/rvpfrs4j0n78h4dcz758365r0000gn/T/ipykernel_46731/3722838119.py:19: RuntimeWarning: invalid value encountered in scalar divide\n",
      "  conservation_score = 1 - (entropy / np.log2(len(column_counts)))\n"
     ]
    }
   ],
   "source": [],
   "metadata": {
    "collapsed": false,
    "ExecuteTime": {
     "end_time": "2023-08-09T15:55:07.107910Z",
     "start_time": "2023-08-09T15:55:07.049999Z"
    }
   },
   "id": "e7419b4b60dd192f"
  }
 ],
 "metadata": {
  "kernelspec": {
   "display_name": "Python 3",
   "language": "python",
   "name": "python3"
  },
  "language_info": {
   "codemirror_mode": {
    "name": "ipython",
    "version": 2
   },
   "file_extension": ".py",
   "mimetype": "text/x-python",
   "name": "python",
   "nbconvert_exporter": "python",
   "pygments_lexer": "ipython2",
   "version": "2.7.6"
  }
 },
 "nbformat": 4,
 "nbformat_minor": 5
}
