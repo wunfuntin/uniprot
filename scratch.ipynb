{
 "cells": [
  {
   "cell_type": "code",
   "execution_count": 1,
   "outputs": [
    {
     "name": "stdout",
     "output_type": "stream",
     "text": [
      "(0, 'A')\n",
      "(1, 'C')\n",
      "(2, 'F')\n",
      "(3, 'F')\n",
      "(4, 'D')\n",
      "(5, 'E')\n",
      "(6, 'T')\n",
      "(7, 'S')\n",
      "(8, 'S')\n",
      "(9, 'S')\n"
     ]
    }
   ],
   "source": [
    "all_aa = 'ACDEFGHIKLMNPQRSTVWY'\n",
    "\n",
    "wt_seq = ['A', 'C', 'F', 'F', 'D', 'E', 'T', 'S', 'S', 'S']\n",
    "mut_seq = ['A', 'C', 'E', 'F', 'E', 'E', 'F', 'S', 'H', 'S']\n",
    "\n",
    "aa_dict = {\n",
    "    \"positive\": ['R', 'H', 'K'],\n",
    "    \"negative\": ['D', 'E'],\n",
    "    \"polar\": ['S', 'T', 'N', 'Q'],\n",
    "    \"hydrophobic\": ['A', 'V', 'I', 'L', 'M', 'F', 'Y', 'W'],\n",
    "    \"special\": ['C', 'G', 'P'],\n",
    "}\n",
    "\n",
    "# for aa in wt_seq:\n",
    "#     print(aa)\n",
    "#     print(aa.index(aa))\n",
    "for index, item in enumerate(wt_seq, start=0):   # Python indexes start at zero\n",
    "    aa_index = (index, item)\n",
    "    \n",
    "    print(aa_index)\n",
    "\n",
    "\n",
    "\n",
    "# for x in aa_dict.values():\n",
    "#     print(x)\n",
    "#     for a in x:\n",
    "#         print(a)\n",
    "\n",
    "# print(aa_dict['positive'])"
   ],
   "metadata": {
    "collapsed": false,
    "ExecuteTime": {
     "end_time": "2023-08-09T18:11:39.454123Z",
     "start_time": "2023-08-09T18:11:39.441983Z"
    }
   },
   "id": "2bafd2c7409ed58a"
  },
  {
   "cell_type": "code",
   "execution_count": 2,
   "outputs": [
    {
     "name": "stdout",
     "output_type": "stream",
     "text": [
      "                                              >first\n",
      "0  TTETVMTMASEPDPI--VQVDRKPKCCFFSFSPKIQTNRIVRAQLW...\n",
      "1  QISRLMP-VTDGRRQI-RIRSLKIDVKAGVTSWQSIDVKQVLTVWL...\n",
      "2                                            >second\n",
      "3  STETIMLMATEPDSD--VQVDGEPKCCLFSFAQKFYASRIVRAQLW...\n",
      "4  QISRLMP-VTDGNRHIVRIRSLKIDVRAGLSSWQSIDVKQVLAVWV...\n",
      "5                                             >third\n",
      "6  ITETIMMMATEPASV--VQVNGEPKCCHFSFTQKFQVSRLVRAQLW...\n",
      "7  QISRLMP-VTDGNRHI-RIRSLKLDVKAGVSSWQSIDVKQVLSVWL...\n"
     ]
    }
   ],
   "source": [],
   "metadata": {
    "collapsed": false,
    "ExecuteTime": {
     "end_time": "2023-08-09T18:34:21.079611Z",
     "start_time": "2023-08-09T18:34:20.450330Z"
    }
   },
   "id": "e7419b4b60dd192f"
  }
 ],
 "metadata": {
  "kernelspec": {
   "display_name": "Python 3",
   "language": "python",
   "name": "python3"
  },
  "language_info": {
   "codemirror_mode": {
    "name": "ipython",
    "version": 2
   },
   "file_extension": ".py",
   "mimetype": "text/x-python",
   "name": "python",
   "nbconvert_exporter": "python",
   "pygments_lexer": "ipython2",
   "version": "2.7.6"
  }
 },
 "nbformat": 4,
 "nbformat_minor": 5
}
